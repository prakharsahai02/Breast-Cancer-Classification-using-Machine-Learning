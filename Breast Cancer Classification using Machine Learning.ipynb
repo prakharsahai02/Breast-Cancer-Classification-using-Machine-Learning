{
 "cells": [
  {
   "cell_type": "code",
   "execution_count": null,
   "id": "e3f574d6-2db8-4eed-93be-3653c539f73f",
   "metadata": {},
   "outputs": [],
   "source": [
    "import numpy as np\n",
    "import pandas as pd\n",
    "import sklearn.datasets\n",
    "from sklearn.model_selection import train_test_split\n",
    "from sklearn.linear_model import LogisticRegression\n",
    "from sklearn.metrics import accuracy_score"
   ]
  },
  {
   "cell_type": "code",
   "execution_count": null,
   "id": "c625d72f-13e1-474e-97e8-c94c02cbf6f2",
   "metadata": {},
   "outputs": [],
   "source": [
    "#loading the data from sklearn\n",
    "breast_cancer_dataset=sklearn.datasets.load_breast_cancer()"
   ]
  },
  {
   "cell_type": "code",
   "execution_count": null,
   "id": "faa46415-57d6-484c-8112-4c222fdb93c4",
   "metadata": {},
   "outputs": [],
   "source": [
    "print(breast_cancer_dataset)"
   ]
  },
  {
   "cell_type": "code",
   "execution_count": null,
   "id": "183b33f9-c921-486b-ae8a-cd0b145ea05f",
   "metadata": {},
   "outputs": [],
   "source": [
    "#loading the data to a data frame\n",
    "data_frame=pd.DataFrame(breast_cancer_dataset.data, columns= breast_cancer_dataset.feature_names)"
   ]
  },
  {
   "cell_type": "code",
   "execution_count": null,
   "id": "c80b5c51-e730-4bf0-80bb-1792c833c694",
   "metadata": {},
   "outputs": [],
   "source": [
    "#print first 5 rows of dataset\n",
    "data_frame.head()"
   ]
  },
  {
   "cell_type": "code",
   "execution_count": null,
   "id": "2b6cb53b-77db-46a7-b883-ca3c3e3e98cc",
   "metadata": {},
   "outputs": [],
   "source": [
    "#Adding hte target column to the dataframe\n",
    "data_frame['label']=breast_cancer_dataset.target"
   ]
  },
  {
   "cell_type": "code",
   "execution_count": null,
   "id": "b605d524-39b9-4383-bff5-04c74d590cf5",
   "metadata": {},
   "outputs": [],
   "source": [
    "#print last 5 rows of dataframe\n",
    "data_frame.tail()\n"
   ]
  },
  {
   "cell_type": "code",
   "execution_count": null,
   "id": "2e151e0b-3361-4c14-bb4b-1cec345249c4",
   "metadata": {},
   "outputs": [],
   "source": [
    "#shows rows and columns of dataset\n",
    "data_frame.shape"
   ]
  },
  {
   "cell_type": "code",
   "execution_count": null,
   "id": "e0e7d0c4-a26f-4bab-b900-bbd955775730",
   "metadata": {},
   "outputs": [],
   "source": [
    "#getting some information about dataframe\n",
    "data_frame.info()\n"
   ]
  },
  {
   "cell_type": "code",
   "execution_count": null,
   "id": "4a2f03ba-6dee-48fe-9602-092a9bb53dc9",
   "metadata": {},
   "outputs": [],
   "source": [
    "#checking for missing/null values\n",
    "data_frame.isnull().sum()"
   ]
  },
  {
   "cell_type": "code",
   "execution_count": null,
   "id": "201bbd26-d441-4210-a645-69077f1ea6d7",
   "metadata": {},
   "outputs": [],
   "source": [
    "#statistical measures of the data\n",
    "data_frame.describe()"
   ]
  },
  {
   "cell_type": "code",
   "execution_count": null,
   "id": "e2eb9a1b-4c6d-4e70-9828-468c0d3ae5dd",
   "metadata": {},
   "outputs": [],
   "source": [
    "#checking the distribution of target variables\n",
    "data_frame['label'].value_counts()"
   ]
  },
  {
   "cell_type": "code",
   "execution_count": null,
   "id": "e1dfd3a0-9ee5-42b8-a0d2-6a8c3eb1609f",
   "metadata": {},
   "outputs": [],
   "source": [
    "data_frame.groupby('label').mean()"
   ]
  },
  {
   "cell_type": "code",
   "execution_count": null,
   "id": "a8c3cb2f-96be-465b-8639-12725ea4483d",
   "metadata": {},
   "outputs": [],
   "source": [
    "# Separating the features and target\n",
    "X=data_frame.drop(columns='label',axis=1)\n",
    "Y=data_frame['label']"
   ]
  },
  {
   "cell_type": "code",
   "execution_count": null,
   "id": "5aeb2e1d-783f-4bf3-80ad-21dc2be7cf1f",
   "metadata": {},
   "outputs": [],
   "source": [
    "print(X)"
   ]
  },
  {
   "cell_type": "code",
   "execution_count": null,
   "id": "7f25fcf9-8c45-4ea0-9c79-809791ad0def",
   "metadata": {},
   "outputs": [],
   "source": [
    "print(Y)"
   ]
  },
  {
   "cell_type": "code",
   "execution_count": null,
   "id": "db0f47f3-563a-4b4f-9968-c35053ed8d88",
   "metadata": {},
   "outputs": [],
   "source": [
    "# Splitting the data into training data and testing data\n",
    "X_train,X_test,Y_train,Y_test=train_test_split(X,Y,test_size=0.2,random_state=2)"
   ]
  },
  {
   "cell_type": "code",
   "execution_count": null,
   "id": "80371f3a-4652-4bde-adb0-eaff2a192a5a",
   "metadata": {},
   "outputs": [],
   "source": [
    "print(X.shape,X_train.shape,X_test.shape)"
   ]
  },
  {
   "cell_type": "code",
   "execution_count": null,
   "id": "f2a2ecf7-49be-41b1-9f06-7d6367273604",
   "metadata": {},
   "outputs": [],
   "source": [
    "# Model Training---> Logistic Regression\n",
    "model=LogisticRegression()"
   ]
  },
  {
   "cell_type": "code",
   "execution_count": null,
   "id": "3dd2f6e0-f08d-4b6e-b088-8827c62b8bc1",
   "metadata": {},
   "outputs": [],
   "source": [
    "# Training the logistic regression model using training data\n",
    "model.fit(X_train,Y_train)"
   ]
  },
  {
   "cell_type": "code",
   "execution_count": null,
   "id": "ecaf1337-125b-4bce-9058-0f2b68d70b6a",
   "metadata": {},
   "outputs": [],
   "source": [
    "# Model Evaluation----> Accuracy score\n",
    "X_train_prediction=model.predict(X_train)\n",
    "training_data_accuracy= accuracy_score(Y_train,X_train_prediction)"
   ]
  },
  {
   "cell_type": "code",
   "execution_count": null,
   "id": "80173790-5238-4775-b821-bdc1b4b6c3e1",
   "metadata": {},
   "outputs": [],
   "source": [
    "print('Accuracy on training data :',training_data_accuracy)"
   ]
  },
  {
   "cell_type": "code",
   "execution_count": null,
   "id": "d1a84e78-3df7-48a7-bdb2-f4675041cdfb",
   "metadata": {},
   "outputs": [],
   "source": [
    "X_test_prediction=model.predict(X_test)\n",
    "test_data_accuracy= accuracy_score(Y_test,X_test_prediction)"
   ]
  },
  {
   "cell_type": "code",
   "execution_count": null,
   "id": "afd74f59-4512-46cb-a1a8-8ed7701cf107",
   "metadata": {},
   "outputs": [],
   "source": [
    "print('Accuracy on test data :',test_data_accuracy)"
   ]
  },
  {
   "cell_type": "code",
   "execution_count": null,
   "id": "c62db09b-7790-4065-b7ad-a8f38d67dbd0",
   "metadata": {},
   "outputs": [],
   "source": [
    "# Buliding a predictive system\n",
    "input_data = (20.29,14.34,135.1,1297,0.1003,0.1328,0.198,0.1043,0.1809,0.05883,0.7572,0.7813,5.438,94.44,0.01149,0.02461,0.05688,0.01885,0.01756,0.005115,22.54,16.67,152.2,1575,0.1374,0.205,0.4,0.1625,0.2364,0.07678)\n",
    "\n",
    "# Change the input data to a numpy array\n",
    "input_data_as_numpy_array = np.asarray(input_data)\n",
    "\n",
    "# Reshape the numpy array as we are predicting for one datapoint\n",
    "input_data_reshaped = input_data_as_numpy_array.reshape(1,-1)\n",
    "\n",
    "prediction = model.predict(input_data_reshaped)\n",
    "\n",
    "print(prediction)\n",
    "\n",
    "if(prediction[0]==0):\n",
    "    print('The breast cancer is Malignent')\n",
    "else:\n",
    "    print('The breast cancer is Benign')"
   ]
  },
  {
   "cell_type": "code",
   "execution_count": null,
   "id": "d7e1082a-3bc0-4475-8485-5e72ba2371b9",
   "metadata": {},
   "outputs": [],
   "source": []
  }
 ],
 "metadata": {
  "kernelspec": {
   "display_name": "Python 3",
   "language": "python",
   "name": "python3"
  },
  "language_info": {
   "codemirror_mode": {
    "name": "ipython",
    "version": 3
   },
   "file_extension": ".py",
   "mimetype": "text/x-python",
   "name": "python",
   "nbconvert_exporter": "python",
   "pygments_lexer": "ipython3",
   "version": "3.12.1"
  }
 },
 "nbformat": 4,
 "nbformat_minor": 5
}
